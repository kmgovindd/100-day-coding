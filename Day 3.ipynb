{
 "cells": [
  {
   "cell_type": "markdown",
   "id": "7326e895",
   "metadata": {},
   "source": [
    "# Functions in python"
   ]
  },
  {
   "cell_type": "markdown",
   "id": "cc09058b",
   "metadata": {},
   "source": [
    "A function is a reusable block of code that performs a specific task. Functions help organize code and makes it more readable, maintainable, and efficient."
   ]
  },
  {
   "cell_type": "markdown",
   "id": "7740f228",
   "metadata": {},
   "source": [
    "Some of the built in functions:\n",
    "1. list()\n",
    "2. tuple()\n",
    "3. set()\n",
    "4. print()"
   ]
  },
  {
   "cell_type": "code",
   "execution_count": 2,
   "id": "330064bc",
   "metadata": {},
   "outputs": [
    {
     "name": "stdout",
     "output_type": "stream",
     "text": [
      "hello Govind KM\n"
     ]
    }
   ],
   "source": [
    "def name(fname, lname):\n",
    "    print(\"hello\", fname, lname)\n",
    "name(\"Govind\", \"KM\")"
   ]
  },
  {
   "cell_type": "markdown",
   "id": "3eae165b",
   "metadata": {},
   "source": [
    "# Function argument"
   ]
  },
  {
   "cell_type": "markdown",
   "id": "39bfadde",
   "metadata": {},
   "source": [
    "1. default argument\n",
    "2. keyword argument\n",
    "3. required argument\n",
    "4. variable length argument"
   ]
  },
  {
   "cell_type": "markdown",
   "id": "79dccd72",
   "metadata": {},
   "source": [
    "Default argument"
   ]
  },
  {
   "cell_type": "code",
   "execution_count": 4,
   "id": "dd61a8c4",
   "metadata": {},
   "outputs": [
    {
     "name": "stdout",
     "output_type": "stream",
     "text": [
      "hi gopro aka govind KM\n"
     ]
    }
   ],
   "source": [
    "def name(fname, mname =\"govind\", lname = \"KM\"):\n",
    "    print(\"hi\", fname,\"aka\", mname, lname)\n",
    "name(\"gopro\")"
   ]
  },
  {
   "cell_type": "markdown",
   "id": "79f335dd",
   "metadata": {},
   "source": [
    "Keyword argument"
   ]
  },
  {
   "cell_type": "code",
   "execution_count": 5,
   "id": "02de211c",
   "metadata": {},
   "outputs": [
    {
     "name": "stdout",
     "output_type": "stream",
     "text": [
      "hi K M  Govind\n"
     ]
    }
   ],
   "source": [
    "def name(fname, mname, lname):\n",
    "    print(\"hi\", fname, mname, lname)\n",
    "name( fname = \"K\", mname = \"M\", lname= \" Govind\")"
   ]
  },
  {
   "cell_type": "markdown",
   "id": "6b3e5f31",
   "metadata": {},
   "source": [
    "Required argument"
   ]
  },
  {
   "cell_type": "code",
   "execution_count": 7,
   "id": "cc8d7820",
   "metadata": {},
   "outputs": [
    {
     "name": "stdout",
     "output_type": "stream",
     "text": [
      "hi K M Govind\n"
     ]
    }
   ],
   "source": [
    "def name(fname, mname, lname):\n",
    "    print(\"hi\", fname, mname, lname)\n",
    "name(\"K\", \"M\", \"Govind\")"
   ]
  },
  {
   "cell_type": "markdown",
   "id": "3225bf2b",
   "metadata": {},
   "source": [
    "Variable length argument"
   ]
  },
  {
   "cell_type": "code",
   "execution_count": 9,
   "id": "89e7e82e",
   "metadata": {},
   "outputs": [
    {
     "name": "stdout",
     "output_type": "stream",
     "text": [
      "hi K M Govind\n"
     ]
    }
   ],
   "source": [
    "def name(*name):\n",
    "    print(\"hi\", name[0], name[1], name[2])\n",
    "name(\"K\", \"M\", \"Govind\")"
   ]
  },
  {
   "cell_type": "markdown",
   "id": "8f13e345",
   "metadata": {},
   "source": [
    "# return statement"
   ]
  },
  {
   "cell_type": "code",
   "execution_count": 11,
   "id": "fb6c11b3",
   "metadata": {},
   "outputs": [
    {
     "data": {
      "text/plain": [
       "'hello K M Govind'"
      ]
     },
     "execution_count": 11,
     "metadata": {},
     "output_type": "execute_result"
    }
   ],
   "source": [
    "def name(fname, mname, lname):\n",
    "    return \"hello\" +\" \"+ fname + \" \" + mname + \" \" + lname\n",
    "name(\"K\", \"M\", \"Govind\")"
   ]
  },
  {
   "cell_type": "markdown",
   "id": "dd6e5012",
   "metadata": {},
   "source": [
    "# Recursion in python"
   ]
  },
  {
   "cell_type": "code",
   "execution_count": 12,
   "id": "acd8636e",
   "metadata": {},
   "outputs": [
    {
     "name": "stdout",
     "output_type": "stream",
     "text": [
      "Enter the number2\n",
      "number: 2\n",
      "Factorial: 2\n"
     ]
    }
   ],
   "source": [
    "def factorial(num):\n",
    "    if(num==1 or num==0):\n",
    "        return 1\n",
    "    else:\n",
    "        return(num*factorial(num -1))\n",
    "num = int(input(\"Enter the number\"))\n",
    "print(\"number:\", num)\n",
    "print(\"Factorial:\", factorial(num))"
   ]
  },
  {
   "cell_type": "markdown",
   "id": "f111aa48",
   "metadata": {},
   "source": [
    "# Pascals triangle"
   ]
  },
  {
   "cell_type": "code",
   "execution_count": 15,
   "id": "c32a3663",
   "metadata": {},
   "outputs": [
    {
     "name": "stdout",
     "output_type": "stream",
     "text": [
      "       1 \n",
      "      1 1 \n",
      "     1 2 1 \n",
      "    1 3 3 1 \n",
      "   1 4 6 4 1 \n",
      "  1 5 10 10 5 1 \n"
     ]
    }
   ],
   "source": [
    "from math import factorial\n",
    "def triangle(n):\n",
    "   for i in range(n):\n",
    "       for j in range(n-i+1):\n",
    "           print(end=' ')\n",
    "       for j in range(i+1):       \n",
    "           print(factorial(i)//(factorial(j)*factorial(i-j)), end=' ')\n",
    "       print()\n",
    "\n",
    "if __name__ == '__main__':\n",
    "   triangle(6)"
   ]
  }
 ],
 "metadata": {
  "kernelspec": {
   "display_name": "Python 3 (ipykernel)",
   "language": "python",
   "name": "python3"
  },
  "language_info": {
   "codemirror_mode": {
    "name": "ipython",
    "version": 3
   },
   "file_extension": ".py",
   "mimetype": "text/x-python",
   "name": "python",
   "nbconvert_exporter": "python",
   "pygments_lexer": "ipython3",
   "version": "3.11.5"
  }
 },
 "nbformat": 4,
 "nbformat_minor": 5
}
