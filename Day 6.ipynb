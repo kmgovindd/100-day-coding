{
 "cells": [
  {
   "cell_type": "markdown",
   "id": "1c4954d5",
   "metadata": {},
   "source": [
    "# Day 6"
   ]
  },
  {
   "cell_type": "markdown",
   "id": "5f639178",
   "metadata": {},
   "source": [
    "# Numpy"
   ]
  },
  {
   "cell_type": "markdown",
   "id": "1f8337b0",
   "metadata": {},
   "source": [
    "INDEX\n",
    "\n",
    "1. Basics\n",
    "2. Copying an array\n",
    "3. Joining an array\n",
    "4. Sorting an array\n",
    "5. Searching an element from an array"
   ]
  },
  {
   "cell_type": "code",
   "execution_count": 2,
   "id": "a4103372",
   "metadata": {},
   "outputs": [
    {
     "name": "stdout",
     "output_type": "stream",
     "text": [
      "[1 2 3 4]\n",
      "<class 'numpy.ndarray'>\n",
      "1.24.3\n"
     ]
    }
   ],
   "source": [
    "import numpy as np\n",
    "a = np.array([1,2,3,4])\n",
    "print(a)\n",
    "print(type(a))\n",
    "print(np.__version__)"
   ]
  },
  {
   "cell_type": "code",
   "execution_count": 4,
   "id": "db307edb",
   "metadata": {},
   "outputs": [
    {
     "name": "stdout",
     "output_type": "stream",
     "text": [
      "0\n",
      "1\n",
      "2\n"
     ]
    }
   ],
   "source": [
    "import numpy as np\n",
    "a = np.array(42)\n",
    "b = np.array([1,2,3,4]) # 1d array\n",
    "c = np.array([[1,2,3], [4,5,6]]) # 2d array\n",
    "print(a.ndim)\n",
    "print(b.ndim)\n",
    "print(c.ndim)"
   ]
  },
  {
   "cell_type": "markdown",
   "id": "a42359d6",
   "metadata": {},
   "source": [
    "# 1. Slicing of array"
   ]
  },
  {
   "cell_type": "code",
   "execution_count": 6,
   "id": "9e79461e",
   "metadata": {},
   "outputs": [
    {
     "name": "stdout",
     "output_type": "stream",
     "text": [
      "[2 3 4 5]\n",
      "[3 4 5]\n",
      "[1 2 3 4]\n"
     ]
    }
   ],
   "source": [
    "import numpy as np\n",
    "a = np.array([1,2,3,4,5])\n",
    "print(a[1:5])\n",
    "print(a[2:])\n",
    "print(a[:4])"
   ]
  },
  {
   "cell_type": "markdown",
   "id": "10565da5",
   "metadata": {},
   "source": [
    "# 2.Copy an array"
   ]
  },
  {
   "cell_type": "code",
   "execution_count": 9,
   "id": "836d7aad",
   "metadata": {},
   "outputs": [
    {
     "name": "stdout",
     "output_type": "stream",
     "text": [
      "[30  2  3  4]\n",
      "[1 2 3 4]\n"
     ]
    }
   ],
   "source": [
    "import numpy as np\n",
    "a = np.array([1,2,3,4])\n",
    "b = a.copy()\n",
    "a[0] = 30\n",
    "print(a)\n",
    "print(b)"
   ]
  },
  {
   "cell_type": "markdown",
   "id": "4aa7c705",
   "metadata": {},
   "source": [
    "# 3.Join 2 array"
   ]
  },
  {
   "cell_type": "code",
   "execution_count": 10,
   "id": "d4002e89",
   "metadata": {},
   "outputs": [
    {
     "name": "stdout",
     "output_type": "stream",
     "text": [
      "[1 2 3 4 5 6]\n",
      "[[1 2 3]\n",
      " [4 5 6]]\n",
      "[1 2 3 4 5 6]\n"
     ]
    }
   ],
   "source": [
    "import numpy as np\n",
    "a = np.array([1,2,3])\n",
    "b = np.array([4,5,6])\n",
    "a1 = np.concatenate((a,b)) #join 2 array using  concatenate()\n",
    "a2 = np.stack((a,b)) # join 2 array using stack()\n",
    "a3 = np.hstack((a,b)) # helper function hstack()\n",
    "print(a1)\n",
    "print(a2)\n",
    "print(a3)"
   ]
  },
  {
   "cell_type": "markdown",
   "id": "9108076b",
   "metadata": {},
   "source": [
    "# 4.Sorting an array"
   ]
  },
  {
   "cell_type": "code",
   "execution_count": 11,
   "id": "5923c867",
   "metadata": {},
   "outputs": [
    {
     "name": "stdout",
     "output_type": "stream",
     "text": [
      "[1 2 3 4 5]\n",
      "[1 2 3 4 6 8]\n"
     ]
    }
   ],
   "source": [
    "import numpy as np\n",
    "a1 = np.array([1,3,2,5,4])\n",
    "a2 = np.array([3,6,2,1,4,8])\n",
    "print(np.sort(a1))\n",
    "print(np.sort(a2))"
   ]
  },
  {
   "cell_type": "markdown",
   "id": "7e64e60e",
   "metadata": {},
   "source": [
    "# 5. Searching from an array"
   ]
  },
  {
   "cell_type": "code",
   "execution_count": 12,
   "id": "f21c4814",
   "metadata": {},
   "outputs": [
    {
     "name": "stdout",
     "output_type": "stream",
     "text": [
      "[1 5 3 8 0]\n",
      "(array([3], dtype=int64),)\n",
      "(array([3, 4], dtype=int64),)\n"
     ]
    }
   ],
   "source": [
    "import numpy as np\n",
    "a1 = np.array([1,5,3,8,0])\n",
    "x1 = np.where(a1 ==8) # search using where()\n",
    "x2 = np.where(a1%2 == 0) # find even values in the array\n",
    "print(a1)\n",
    "print(x1)\n",
    "print(x2)\n"
   ]
  }
 ],
 "metadata": {
  "kernelspec": {
   "display_name": "Python 3 (ipykernel)",
   "language": "python",
   "name": "python3"
  },
  "language_info": {
   "codemirror_mode": {
    "name": "ipython",
    "version": 3
   },
   "file_extension": ".py",
   "mimetype": "text/x-python",
   "name": "python",
   "nbconvert_exporter": "python",
   "pygments_lexer": "ipython3",
   "version": "3.11.5"
  }
 },
 "nbformat": 4,
 "nbformat_minor": 5
}
