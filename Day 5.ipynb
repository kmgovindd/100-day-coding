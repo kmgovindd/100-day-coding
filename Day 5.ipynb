{
 "cells": [
  {
   "cell_type": "markdown",
   "id": "d4415c02",
   "metadata": {},
   "source": [
    "# Day 5"
   ]
  },
  {
   "cell_type": "markdown",
   "id": "dd7b1caa",
   "metadata": {},
   "source": [
    "# Modules in python"
   ]
  },
  {
   "cell_type": "markdown",
   "id": "f5e3fe4d",
   "metadata": {},
   "source": [
    "Index\n",
    " 1. Built in modules - math, date, os, sys\n",
    " 2. user defined modules"
   ]
  },
  {
   "cell_type": "markdown",
   "id": "bd3484ef",
   "metadata": {},
   "source": [
    "# 1. Built in modules - math, date, os, sys"
   ]
  },
  {
   "cell_type": "code",
   "execution_count": 1,
   "id": "3692f3e7",
   "metadata": {},
   "outputs": [
    {
     "name": "stdout",
     "output_type": "stream",
     "text": [
      "value of sin0 = 0.0\n",
      "value of cos0 = 1.0\n",
      "value of tan45 = 1.6197751905438615\n",
      "value of sin90 = 0.8939966636005579\n"
     ]
    }
   ],
   "source": [
    "import math\n",
    "sin0=math.sin(0)\n",
    "cos0=math.cos(0)\n",
    "tan45=math.tan(45)\n",
    "sin90=math.sin(90)\n",
    "print(\"value of sin0 =\", sin0)\n",
    "print(\"value of cos0 =\", cos0)\n",
    "print(\"value of tan45 =\", tan45)\n",
    "print(\"value of sin90 =\", sin90)"
   ]
  },
  {
   "cell_type": "code",
   "execution_count": 2,
   "id": "ae2a8adc",
   "metadata": {},
   "outputs": [
    {
     "name": "stdout",
     "output_type": "stream",
     "text": [
      "value of tau is 6.283185307179586\n",
      "value of e is 2.718281828459045\n"
     ]
    }
   ],
   "source": [
    "from math import e, tau\n",
    "print(\"value of tau is\", tau)\n",
    "print(\"value of e is\", e)"
   ]
  },
  {
   "cell_type": "code",
   "execution_count": 3,
   "id": "f025fed1",
   "metadata": {},
   "outputs": [
    {
     "name": "stdout",
     "output_type": "stream",
     "text": [
      "2.0\n",
      "120\n",
      "3.141592653589793\n"
     ]
    }
   ],
   "source": [
    "from math import sqrt, factorial, pi\n",
    "print(sqrt(4))\n",
    "print(factorial(5))\n",
    "print(pi)"
   ]
  },
  {
   "cell_type": "markdown",
   "id": "77da8de4",
   "metadata": {},
   "source": [
    "Ceil will round the number UPWARD to its nearest integer\n",
    "floor is used to round a number DOWNWARD to its nearest integer"
   ]
  },
  {
   "cell_type": "code",
   "execution_count": 4,
   "id": "340991e9",
   "metadata": {},
   "outputs": [
    {
     "name": "stdout",
     "output_type": "stream",
     "text": [
      "99\n",
      "98\n"
     ]
    }
   ],
   "source": [
    "import math\n",
    "x = math.ceil(98.9)\n",
    "y = math.floor(98.6)\n",
    "print(x)\n",
    "print(y)"
   ]
  },
  {
   "cell_type": "code",
   "execution_count": 5,
   "id": "cdd21ab1",
   "metadata": {},
   "outputs": [
    {
     "name": "stdout",
     "output_type": "stream",
     "text": [
      "16\n"
     ]
    }
   ],
   "source": [
    "import math\n",
    "x = pow(4,2)\n",
    "print(x)"
   ]
  },
  {
   "cell_type": "code",
   "execution_count": 6,
   "id": "237f37ad",
   "metadata": {},
   "outputs": [
    {
     "name": "stdout",
     "output_type": "stream",
     "text": [
      "3\n",
      "4\n"
     ]
    }
   ],
   "source": [
    "import math \n",
    "a = min(7,3,9)\n",
    "b = max(3,4,2)\n",
    "print(a)\n",
    "print(b)"
   ]
  },
  {
   "cell_type": "code",
   "execution_count": 7,
   "id": "711adeaa",
   "metadata": {},
   "outputs": [
    {
     "name": "stdout",
     "output_type": "stream",
     "text": [
      "65.2\n"
     ]
    }
   ],
   "source": [
    "import math\n",
    "x = abs(-65.2)\n",
    "print(x)"
   ]
  },
  {
   "cell_type": "markdown",
   "id": "4293ad0b",
   "metadata": {},
   "source": [
    "Date and time"
   ]
  },
  {
   "cell_type": "code",
   "execution_count": 9,
   "id": "47d1584a",
   "metadata": {},
   "outputs": [
    {
     "name": "stdout",
     "output_type": "stream",
     "text": [
      "2024-01-08 12:35:54.750878\n",
      "2024\n",
      "1\n",
      "8\n"
     ]
    }
   ],
   "source": [
    "import datetime\n",
    "now = datetime.datetime.now()\n",
    "print(now)\n",
    "print(now.year)\n",
    "print(now.month)\n",
    "print(now.day)"
   ]
  },
  {
   "cell_type": "code",
   "execution_count": 10,
   "id": "839a5df7",
   "metadata": {},
   "outputs": [
    {
     "name": "stdout",
     "output_type": "stream",
     "text": [
      "1704702967.9285164\n"
     ]
    }
   ],
   "source": [
    "import time\n",
    "print(time.time())"
   ]
  },
  {
   "cell_type": "code",
   "execution_count": 11,
   "id": "653516e9",
   "metadata": {},
   "outputs": [
    {
     "name": "stdout",
     "output_type": "stream",
     "text": [
      "Mon Jan  8 12:36:29 2024\n"
     ]
    }
   ],
   "source": [
    "import time\n",
    "print(time.ctime())"
   ]
  },
  {
   "cell_type": "code",
   "execution_count": 14,
   "id": "f1ff5cbb",
   "metadata": {},
   "outputs": [
    {
     "name": "stdout",
     "output_type": "stream",
     "text": [
      "    August 2023\n",
      "Mo Tu We Th Fr Sa Su\n",
      "    1  2  3  4  5  6\n",
      " 7  8  9 10 11 12 13\n",
      "14 15 16 17 18 19 20\n",
      "21 22 23 24 25 26 27\n",
      "28 29 30 31\n",
      "\n"
     ]
    }
   ],
   "source": [
    "import calendar\n",
    "print(calendar.month(2023,8))"
   ]
  },
  {
   "cell_type": "code",
   "execution_count": 15,
   "id": "2c1298a1",
   "metadata": {},
   "outputs": [
    {
     "name": "stdout",
     "output_type": "stream",
     "text": [
      "C:\\Users\\kmgov\n"
     ]
    }
   ],
   "source": [
    "import os\n",
    "print(os.getcwd())"
   ]
  },
  {
   "cell_type": "code",
   "execution_count": 16,
   "id": "b2aa5f97",
   "metadata": {},
   "outputs": [
    {
     "name": "stdout",
     "output_type": "stream",
     "text": [
      "3.11.5 | packaged by Anaconda, Inc. | (main, Sep 11 2023, 13:26:23) [MSC v.1916 64 bit (AMD64)]\n",
      "['C:\\\\Users\\\\kmgov\\\\AppData\\\\Local\\\\anaconda3\\\\Lib\\\\site-packages\\\\ipykernel_launcher.py', '-f', 'C:\\\\Users\\\\kmgov\\\\AppData\\\\Roaming\\\\jupyter\\\\runtime\\\\kernel-fe878989-933b-4fae-9514-7cce4cc088a6.json']\n"
     ]
    }
   ],
   "source": [
    "import sys\n",
    "print(sys.version)\n",
    "print(sys.argv)"
   ]
  },
  {
   "cell_type": "markdown",
   "id": "060a147f",
   "metadata": {},
   "source": [
    "# 2. User defined module"
   ]
  },
  {
   "cell_type": "code",
   "execution_count": 17,
   "id": "cb9e79a7",
   "metadata": {},
   "outputs": [
    {
     "name": "stdout",
     "output_type": "stream",
     "text": [
      "enter 1st number2\n",
      "enter 2nd number2\n",
      "sum= 4\n",
      "Difference= 0\n",
      "product 4\n",
      "Division 1.0\n"
     ]
    }
   ],
   "source": [
    "import math\n",
    "num1 = int(input(\"enter 1st number\"))\n",
    "num2 = int(input(\"enter 2nd number\"))\n",
    "print(\"sum=\", num1+num2)\n",
    "print(\"Difference=\", num1 - num2)\n",
    "print(\"product\", num1*num2)\n",
    "print(\"Division\", num1/num2)"
   ]
  }
 ],
 "metadata": {
  "kernelspec": {
   "display_name": "Python 3 (ipykernel)",
   "language": "python",
   "name": "python3"
  },
  "language_info": {
   "codemirror_mode": {
    "name": "ipython",
    "version": 3
   },
   "file_extension": ".py",
   "mimetype": "text/x-python",
   "name": "python",
   "nbconvert_exporter": "python",
   "pygments_lexer": "ipython3",
   "version": "3.11.5"
  }
 },
 "nbformat": 4,
 "nbformat_minor": 5
}
