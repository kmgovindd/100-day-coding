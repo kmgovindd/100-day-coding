{
 "cells": [
  {
   "cell_type": "markdown",
   "id": "9de51803",
   "metadata": {},
   "source": [
    "# Data Manipulation"
   ]
  },
  {
   "cell_type": "markdown",
   "id": "4620852e",
   "metadata": {},
   "source": [
    "INDEX\n",
    "\n",
    "1. Adding and removing columns\n",
    "2. Data Aggregation\n",
    "3. Grouping and Pivot Tables\n",
    "4. Selecting Columns\n",
    "5. Filtering and Sorting Data"
   ]
  },
  {
   "cell_type": "markdown",
   "id": "9e7962d3",
   "metadata": {},
   "source": [
    "# 1. Adding and removing columns"
   ]
  },
  {
   "cell_type": "code",
   "execution_count": 1,
   "id": "f9f512ff",
   "metadata": {},
   "outputs": [
    {
     "name": "stdout",
     "output_type": "stream",
     "text": [
      "      Name  Age\n",
      "0   Govind   25\n",
      "1   Reyhan   30\n",
      "2  Risheek   35\n"
     ]
    }
   ],
   "source": [
    "import pandas as pd\n",
    "data = {'Name': ['Govind', 'Reyhan', 'Risheek'],\n",
    "        'Age': [25, 30, 35]}\n",
    "df = pd.DataFrame(data)\n",
    "print(df)"
   ]
  },
  {
   "cell_type": "code",
   "execution_count": 2,
   "id": "07b9501f",
   "metadata": {},
   "outputs": [],
   "source": [
    "df['Place'] = ['Dubai', 'UK', 'Sri Lanka']"
   ]
  },
  {
   "cell_type": "code",
   "execution_count": 3,
   "id": "834ea8d2",
   "metadata": {},
   "outputs": [
    {
     "name": "stdout",
     "output_type": "stream",
     "text": [
      "      Name  Age      Place\n",
      "0   Govind   25      Dubai\n",
      "1   Reyhan   30         UK\n",
      "2  Risheek   35  Sri Lanka\n"
     ]
    }
   ],
   "source": [
    "print(df)"
   ]
  },
  {
   "cell_type": "code",
   "execution_count": 4,
   "id": "084aaebc",
   "metadata": {},
   "outputs": [],
   "source": [
    "df = df.drop('Place', axis = 1)"
   ]
  },
  {
   "cell_type": "code",
   "execution_count": 5,
   "id": "77148365",
   "metadata": {},
   "outputs": [
    {
     "name": "stdout",
     "output_type": "stream",
     "text": [
      "      Name  Age\n",
      "0   Govind   25\n",
      "1   Reyhan   30\n",
      "2  Risheek   35\n"
     ]
    }
   ],
   "source": [
    "print(df)"
   ]
  },
  {
   "cell_type": "markdown",
   "id": "b0a0d2b2",
   "metadata": {},
   "source": [
    "# 2. Data Aggregation"
   ]
  },
  {
   "cell_type": "code",
   "execution_count": 6,
   "id": "0a65ffd2",
   "metadata": {},
   "outputs": [],
   "source": [
    "import pandas as pd\n",
    "data = {'Category': ['A', 'B', 'A', 'B', 'A', 'B'],\n",
    "        'Value': [10, 20, 15, 25, 30, 35]}\n",
    "df = pd.DataFrame(data)\n",
    "df1 = df.groupby('Category')"
   ]
  },
  {
   "cell_type": "code",
   "execution_count": 7,
   "id": "89071cf1",
   "metadata": {},
   "outputs": [
    {
     "name": "stdout",
     "output_type": "stream",
     "text": [
      "------------sum----------------\n",
      "Category\n",
      "A    55\n",
      "B    80\n",
      "Name: Value, dtype: int64\n",
      "------------mean----------------\n",
      "Category\n",
      "A    18.333333\n",
      "B    26.666667\n",
      "Name: Value, dtype: float64\n",
      "------------median----------------\n",
      "Category\n",
      "A    15.0\n",
      "B    25.0\n",
      "Name: Value, dtype: float64\n",
      "------------max----------------\n",
      "Category\n",
      "A    30\n",
      "B    35\n",
      "Name: Value, dtype: int64\n",
      "------------count----------------\n",
      "Category\n",
      "A    3\n",
      "B    3\n",
      "Name: Value, dtype: int64\n",
      "------------min----------------\n",
      "Category\n",
      "A    10\n",
      "B    20\n",
      "Name: Value, dtype: int64\n"
     ]
    }
   ],
   "source": [
    "x1 = df1['Value'].sum()\n",
    "x2 = df1['Value'].mean()\n",
    "x4 = df1['Value'].median()\n",
    "x5 = df1['Value'].max()\n",
    "x6 = df1['Value'].count()\n",
    "x7 = df1['Value'].min()\n",
    "\n",
    "print(\"------------sum----------------\")\n",
    "print(x1)\n",
    "print(\"------------mean----------------\")\n",
    "print(x2)\n",
    "print(\"------------median----------------\")\n",
    "print(x4)\n",
    "print(\"------------max----------------\")\n",
    "print(x5)\n",
    "print(\"------------count----------------\")\n",
    "print(x6)\n",
    "print(\"------------min----------------\")\n",
    "print(x7)"
   ]
  },
  {
   "cell_type": "code",
   "execution_count": 8,
   "id": "af700461",
   "metadata": {},
   "outputs": [],
   "source": [
    "import pandas as pd\n",
    "data = {'Category': ['A', 'B', 'A', 'B', 'A', 'B'],\n",
    "        'Value': [10, 20, 15, 25, 30, 35]}\n",
    "df = pd.DataFrame(data)\n",
    "df1 = df.groupby('Category')\n",
    "y1 = df1['Value'].sum()"
   ]
  },
  {
   "cell_type": "code",
   "execution_count": 9,
   "id": "ad4e3c57",
   "metadata": {},
   "outputs": [
    {
     "name": "stdout",
     "output_type": "stream",
     "text": [
      "          Value\n",
      "Category       \n",
      "A            55\n",
      "B            80\n"
     ]
    }
   ],
   "source": [
    "pivot_table = df.pivot_table(index='Category', values='Value', aggfunc='sum')\n",
    "print(pivot_table)"
   ]
  },
  {
   "cell_type": "markdown",
   "id": "854fc6d4",
   "metadata": {},
   "source": [
    "# 4. Selecting Columns"
   ]
  },
  {
   "cell_type": "code",
   "execution_count": 10,
   "id": "c2c4c6dc",
   "metadata": {},
   "outputs": [
    {
     "name": "stdout",
     "output_type": "stream",
     "text": [
      "0     Govind\n",
      "1     Reyhan\n",
      "2    Risheek\n",
      "Name: Name, dtype: object\n",
      "      Name  Age\n",
      "0   Govind   25\n",
      "1   Reyhan   35\n",
      "2  Risheek   45\n"
     ]
    }
   ],
   "source": [
    "#selecting a column\n",
    "import pandas as pd\n",
    "data = {'Name': ['Govind', 'Reyhan', 'Risheek'],\n",
    "        'Age': [25, 35, 45],\n",
    "        'City': ['kochi', 'tvm', 'blr']}\n",
    "df = pd.DataFrame(data)\n",
    "df1 = df['Name']\n",
    "df2 = df[['Name', 'Age']]\n",
    "\n",
    "print(df1)\n",
    "print(df2)"
   ]
  },
  {
   "cell_type": "markdown",
   "id": "95f46d83",
   "metadata": {},
   "source": [
    "# 5. Filtering and Sorting"
   ]
  },
  {
   "cell_type": "code",
   "execution_count": 11,
   "id": "a4852ac0",
   "metadata": {},
   "outputs": [
    {
     "name": "stdout",
     "output_type": "stream",
     "text": [
      "      Name  Age City\n",
      "1   Reyhan   35  tvm\n",
      "2  Risheek   45  blr\n",
      "Empty DataFrame\n",
      "Columns: [Name, Age, City]\n",
      "Index: []\n"
     ]
    }
   ],
   "source": [
    "# Filter rows\n",
    "x1 = df[df['Age'] > 30]\n",
    "y1 = df[(df['Age'] > 25) & (df['City'] == 'blr')]\n",
    "print(x1)\n",
    "print(y1)\n"
   ]
  },
  {
   "cell_type": "code",
   "execution_count": 12,
   "id": "33e96b4a",
   "metadata": {},
   "outputs": [
    {
     "name": "stdout",
     "output_type": "stream",
     "text": [
      "      Name  Age   City\n",
      "0   Govind   25  kochi\n",
      "1   Reyhan   35    tvm\n",
      "2  Risheek   45    blr\n",
      "      Name  Age   City\n",
      "2  Risheek   45    blr\n",
      "0   Govind   25  kochi\n",
      "1   Reyhan   35    tvm\n"
     ]
    }
   ],
   "source": [
    "#Sorting Data\n",
    "Q1 = df.sort_values(by='Age')\n",
    "Q2 = df.sort_values(by=['City', 'Age'], ascending=[True, False])\n",
    "\n",
    "print(Q1)\n",
    "print(Q2)"
   ]
  },
  {
   "cell_type": "code",
   "execution_count": null,
   "id": "a844b7a5",
   "metadata": {},
   "outputs": [],
   "source": []
  }
 ],
 "metadata": {
  "kernelspec": {
   "display_name": "Python 3 (ipykernel)",
   "language": "python",
   "name": "python3"
  },
  "language_info": {
   "codemirror_mode": {
    "name": "ipython",
    "version": 3
   },
   "file_extension": ".py",
   "mimetype": "text/x-python",
   "name": "python",
   "nbconvert_exporter": "python",
   "pygments_lexer": "ipython3",
   "version": "3.11.5"
  }
 },
 "nbformat": 4,
 "nbformat_minor": 5
}
