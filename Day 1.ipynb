{
 "cells": [
  {
   "cell_type": "markdown",
   "id": "2f7e7336",
   "metadata": {},
   "source": [
    "#  Day 1"
   ]
  },
  {
   "cell_type": "markdown",
   "id": "5681a522",
   "metadata": {},
   "source": [
    "# INDEX"
   ]
  },
  {
   "cell_type": "markdown",
   "id": "bfb57274",
   "metadata": {},
   "source": [
    "1. Dictionaries\n",
    "2. Lists\n",
    "3. Sets\n",
    "4. Tuples"
   ]
  },
  {
   "cell_type": "markdown",
   "id": "055cdac3",
   "metadata": {},
   "source": [
    "# 1.Dictionaries"
   ]
  },
  {
   "cell_type": "markdown",
   "id": "f4460fee",
   "metadata": {},
   "source": [
    "Dictionaries are versatile data structures that store key-value pairs. It is an efficient means to organize, manipulate, and represent structured information."
   ]
  },
  {
   "cell_type": "code",
   "execution_count": 17,
   "id": "5bb221be",
   "metadata": {},
   "outputs": [
    {
     "name": "stdout",
     "output_type": "stream",
     "text": [
      "{'Cusine': 'Indian(Kerala)', 'FoodItem': 'Chicken Biryani'}\n",
      "2\n",
      "<class 'dict'>\n"
     ]
    }
   ],
   "source": [
    "food = {\n",
    "    \"Cusine\" : \"Indian(Kerala)\",\n",
    "    \"FoodItem\" : \"Chicken Biryani\"\n",
    "}\n",
    "print(food)\n",
    "print(len(food))\n",
    "print(type(food))"
   ]
  },
  {
   "cell_type": "markdown",
   "id": "315c2bfc",
   "metadata": {},
   "source": [
    "# Accessing Items from dictionary"
   ]
  },
  {
   "cell_type": "markdown",
   "id": "dc5393ad",
   "metadata": {},
   "source": [
    "Items can be accessed by referring to its key name, inside square brackets."
   ]
  },
  {
   "cell_type": "code",
   "execution_count": 21,
   "id": "38ec5df4",
   "metadata": {},
   "outputs": [
    {
     "name": "stdout",
     "output_type": "stream",
     "text": [
      "Indian(Kerala)\n",
      "ChickenBiryani\n",
      "dict_keys(['Cusine', 'FoodItem'])\n",
      "dict_values(['Indian(Kerala)', 'ChickenBiryani'])\n",
      "dict_items([('Cusine', 'Indian(Kerala)'), ('FoodItem', 'ChickenBiryani')])\n"
     ]
    }
   ],
   "source": [
    "food = {\n",
    "    \"Cusine\":\"Indian(Kerala)\",\n",
    "    \"FoodItem\":\"ChickenBiryani\"\n",
    "}\n",
    "a = food[\"Cusine\"]\n",
    "b = food.get(\"FoodItem\")\n",
    "c = food.keys()\n",
    "d = food.values()\n",
    "e = food.items()\n",
    "\n",
    "print(a)\n",
    "print(b)\n",
    "print(c)\n",
    "print(d)\n",
    "print(e)"
   ]
  },
  {
   "cell_type": "markdown",
   "id": "9f446f61",
   "metadata": {},
   "source": [
    "# Add Items to dictionary"
   ]
  },
  {
   "cell_type": "code",
   "execution_count": 25,
   "id": "8caf7299",
   "metadata": {},
   "outputs": [
    {
     "name": "stdout",
     "output_type": "stream",
     "text": [
      "{'Cusine': 'Indian(Kerala)', 'FoodItem': 'Chicken Biryani', 'Variation': 'Dindigul Thalapakatty Biryani'}\n"
     ]
    }
   ],
   "source": [
    "food = {\n",
    "    \"Cusine\":\"Indian(Kerala)\",\n",
    "    \"FoodItem\":\"Chicken Biryani\"\n",
    "}\n",
    "food[\"Variation\"] = \"Dindigul Thalapakatty Biryani\"\n",
    "print(food)"
   ]
  },
  {
   "cell_type": "markdown",
   "id": "9e653205",
   "metadata": {},
   "source": [
    "# Append items in the dictionary"
   ]
  },
  {
   "cell_type": "code",
   "execution_count": 26,
   "id": "1c1f15e2",
   "metadata": {},
   "outputs": [
    {
     "name": "stdout",
     "output_type": "stream",
     "text": [
      "{'Cusine': 'Indian(Kerala)', 'FoodItem': 'Dosa'}\n"
     ]
    }
   ],
   "source": [
    "food = {\n",
    "    \"Cusine\":\"Indian(Kerala)\",\n",
    "    \"FoodItem\":\"Chicken Biryani\"\n",
    "}\n",
    "food[\"FoodItem\"] = \"Dosa\"\n",
    "print(food)"
   ]
  },
  {
   "cell_type": "markdown",
   "id": "85dac7f8",
   "metadata": {},
   "source": [
    "# Delete an item from a dictionary"
   ]
  },
  {
   "cell_type": "markdown",
   "id": "95e1e90c",
   "metadata": {},
   "source": [
    "\"pop()\" is used to delete an item from a dictionary"
   ]
  },
  {
   "cell_type": "code",
   "execution_count": 28,
   "id": "03b4cb97",
   "metadata": {},
   "outputs": [
    {
     "name": "stdout",
     "output_type": "stream",
     "text": [
      "{'Cusine': 'Indian(Kerala)', 'FoodItem': 'Chicken Biryani'}\n"
     ]
    }
   ],
   "source": [
    "food = {\n",
    "    \"Cusine\":\"Indian(Kerala)\",\n",
    "    \"FoodItem\":\"Chicken Biryani\",\n",
    "    \"Variation\": \"Dindigul Thalapakatty Biryani\"\n",
    "}\n",
    "food.pop(\"Variation\")\n",
    "print(food)"
   ]
  },
  {
   "cell_type": "markdown",
   "id": "ea1316f8",
   "metadata": {},
   "source": [
    "Deleting using \"del\" "
   ]
  },
  {
   "cell_type": "code",
   "execution_count": 29,
   "id": "1d9f96a3",
   "metadata": {},
   "outputs": [
    {
     "name": "stdout",
     "output_type": "stream",
     "text": [
      "{'Cusine': 'Indian(Kerala)', 'Variation': 'Dindigul Thalapakatty Biryani'}\n"
     ]
    }
   ],
   "source": [
    "food = {\n",
    "    \"Cusine\":\"Indian(Kerala)\",\n",
    "    \"FoodItem\":\"Chicken Biryani\",\n",
    "    \"Variation\": \"Dindigul Thalapakatty Biryani\"\n",
    "}\n",
    "del food[\"FoodItem\"]\n",
    "print(food)"
   ]
  },
  {
   "cell_type": "markdown",
   "id": "32bbdb85",
   "metadata": {},
   "source": [
    "# Clear a dictionary"
   ]
  },
  {
   "cell_type": "code",
   "execution_count": 30,
   "id": "11b9e1af",
   "metadata": {},
   "outputs": [
    {
     "name": "stdout",
     "output_type": "stream",
     "text": [
      "{}\n"
     ]
    }
   ],
   "source": [
    "food = {\n",
    "    \"Cusine\":\"Indian(Kerala)\",\n",
    "    \"FoodItem\":\"Chicken Biryani\",\n",
    "    \"Variation\": \"Dindigul Thalapakatty Biryani\"\n",
    "}\n",
    "food.clear()\n",
    "print(food)"
   ]
  },
  {
   "cell_type": "markdown",
   "id": "0ca61546",
   "metadata": {},
   "source": [
    "# 2. Lists"
   ]
  },
  {
   "cell_type": "code",
   "execution_count": 33,
   "id": "986ee838",
   "metadata": {},
   "outputs": [
    {
     "name": "stdout",
     "output_type": "stream",
     "text": [
      "['BMW M340', 'SClass', 'VW Polo', 'BMW F40']\n",
      "4\n",
      "<class 'list'>\n"
     ]
    }
   ],
   "source": [
    "cars = [\"BMW M340\", \"SClass\", \"VW Polo\", \"BMW F40\"]\n",
    "print(cars)\n",
    "print(len(cars))\n",
    "print(type(cars))"
   ]
  },
  {
   "cell_type": "code",
   "execution_count": 34,
   "id": "4acd7cd7",
   "metadata": {},
   "outputs": [
    {
     "name": "stdout",
     "output_type": "stream",
     "text": [
      "BMW F40\n",
      "['SClass', 'VW Polo']\n",
      "['VW Polo', 'BMW F40']\n"
     ]
    }
   ],
   "source": [
    "print(cars[-1])\n",
    "print(cars[1:3])\n",
    "print(cars[2:])"
   ]
  },
  {
   "cell_type": "code",
   "execution_count": 38,
   "id": "44467ba5",
   "metadata": {},
   "outputs": [
    {
     "name": "stdout",
     "output_type": "stream",
     "text": [
      "BMW M340 found in the list\n"
     ]
    }
   ],
   "source": [
    "if \"BMW M340\" in cars:\n",
    "  print(\"BMW M340 found in the list\")"
   ]
  },
  {
   "cell_type": "markdown",
   "id": "913e2e34",
   "metadata": {},
   "source": [
    "#  Add an item to a list"
   ]
  },
  {
   "cell_type": "markdown",
   "id": "2470c895",
   "metadata": {},
   "source": [
    "Can be done by using insert()"
   ]
  },
  {
   "cell_type": "code",
   "execution_count": 39,
   "id": "589f2a14",
   "metadata": {},
   "outputs": [
    {
     "name": "stdout",
     "output_type": "stream",
     "text": [
      "['BMW M340', 'SClass', 'VW Polo', 'LandCruiser', 'BMW F40']\n"
     ]
    }
   ],
   "source": [
    "cars.insert(3, \"LandCruiser\")\n",
    "print(cars)"
   ]
  },
  {
   "cell_type": "markdown",
   "id": "279ef154",
   "metadata": {},
   "source": [
    "By using append()"
   ]
  },
  {
   "cell_type": "code",
   "execution_count": 41,
   "id": "8d8af9fa",
   "metadata": {},
   "outputs": [
    {
     "name": "stdout",
     "output_type": "stream",
     "text": [
      "['BMW M340', 'SClass', 'VW Polo', 'LandCruiser', 'BMW F40', 'LandCruiser Prado']\n"
     ]
    }
   ],
   "source": [
    "cars.append(\"LandCruiser Prado\")\n",
    "print(cars)"
   ]
  },
  {
   "cell_type": "markdown",
   "id": "a4d248b2",
   "metadata": {},
   "source": [
    "By using extend()"
   ]
  },
  {
   "cell_type": "code",
   "execution_count": 46,
   "id": "d66e4c0b",
   "metadata": {},
   "outputs": [
    {
     "name": "stdout",
     "output_type": "stream",
     "text": [
      "['BMW M340', 'Sclass', 'VW Polo', 'LandCruiser', 'FJCruiser', 'vellfire']\n"
     ]
    }
   ],
   "source": [
    "cars = [\"BMW M340\", \"Sclass\", \"VW Polo\"]\n",
    "carsadd = [\"LandCruiser\", \"FJCruiser\", \"vellfire\"]\n",
    "cars.extend(carsadd)\n",
    "print(cars)"
   ]
  },
  {
   "cell_type": "markdown",
   "id": "79f9e46a",
   "metadata": {},
   "source": [
    "# Remove Item from a list"
   ]
  },
  {
   "cell_type": "markdown",
   "id": "c2eb5729",
   "metadata": {},
   "source": [
    "remove() can be used to remove a specific item from a list."
   ]
  },
  {
   "cell_type": "code",
   "execution_count": 47,
   "id": "cd3411d8",
   "metadata": {},
   "outputs": [
    {
     "name": "stdout",
     "output_type": "stream",
     "text": [
      "['BMW M340', 'Sclass']\n"
     ]
    }
   ],
   "source": [
    "cars = [\"BMW M340\", \"Sclass\", \"VW Polo\"]\n",
    "cars.remove(\"VW Polo\")\n",
    "print(cars)"
   ]
  },
  {
   "cell_type": "markdown",
   "id": "f09c51c9",
   "metadata": {},
   "source": [
    "pop() can be used to remove from specified index"
   ]
  },
  {
   "cell_type": "code",
   "execution_count": 50,
   "id": "fd8394fc",
   "metadata": {},
   "outputs": [
    {
     "name": "stdout",
     "output_type": "stream",
     "text": [
      "['Sclass', 'VW Polo']\n"
     ]
    }
   ],
   "source": [
    "cars = [\"BMW M340\", \"Sclass\", \"VW Polo\"]\n",
    "cars.pop(0)\n",
    "print(cars)"
   ]
  },
  {
   "cell_type": "markdown",
   "id": "8c1e5196",
   "metadata": {},
   "source": [
    "Keyword \"del\" can also be used to remove from a specified index"
   ]
  },
  {
   "cell_type": "code",
   "execution_count": 51,
   "id": "01b279a0",
   "metadata": {},
   "outputs": [
    {
     "name": "stdout",
     "output_type": "stream",
     "text": [
      "['Sclass', 'VW Polo']\n"
     ]
    }
   ],
   "source": [
    "cars = [\"BMW M340\", \"Sclass\", \"VW Polo\"]\n",
    "del cars[0]\n",
    "print(cars)"
   ]
  },
  {
   "cell_type": "markdown",
   "id": "4134410f",
   "metadata": {},
   "source": [
    "# Clear the list"
   ]
  },
  {
   "cell_type": "code",
   "execution_count": 52,
   "id": "510f0c8f",
   "metadata": {},
   "outputs": [
    {
     "name": "stdout",
     "output_type": "stream",
     "text": [
      "[]\n"
     ]
    }
   ],
   "source": [
    "cars = [\"BMW M340\", \"Sclass\", \"VW Polo\"]\n",
    "cars.clear()\n",
    "print(cars)"
   ]
  },
  {
   "cell_type": "markdown",
   "id": "5c04e2d7",
   "metadata": {},
   "source": [
    "# Joining 2 lists"
   ]
  },
  {
   "cell_type": "markdown",
   "id": "978418e7",
   "metadata": {},
   "source": [
    "By using + operator"
   ]
  },
  {
   "cell_type": "code",
   "execution_count": 55,
   "id": "0b62e6ab",
   "metadata": {},
   "outputs": [
    {
     "name": "stdout",
     "output_type": "stream",
     "text": [
      "['chilly', 'banana', 'strawberry', 'potato', 'tomato', 'onion']\n"
     ]
    }
   ],
   "source": [
    "shoppinglist1 = [\"chilly\", \"banana\", \"strawberry\"]\n",
    "shoppinglist2 = [\"potato\", \"tomato\", \"onion\"]\n",
    "newshoppinglist = shoppinglist1 + shoppinglist2\n",
    "print(shoppinglist)"
   ]
  },
  {
   "cell_type": "markdown",
   "id": "3e6102c3",
   "metadata": {},
   "source": [
    "By using extend()"
   ]
  },
  {
   "cell_type": "code",
   "execution_count": 57,
   "id": "094fe03e",
   "metadata": {},
   "outputs": [
    {
     "name": "stdout",
     "output_type": "stream",
     "text": [
      "['chilly', 'banana', 'strawberry', 'potato', 'tomato', 'onion']\n"
     ]
    }
   ],
   "source": [
    "shoppinglist1 = [\"chilly\", \"banana\", \"strawberry\"]\n",
    "shoppinglist2 = [\"potato\", \"tomato\", \"onion\"]\n",
    "shoppinglist1.extend(shoppinglist2)\n",
    "print (shoppinglist1)"
   ]
  },
  {
   "cell_type": "markdown",
   "id": "5080988c",
   "metadata": {},
   "source": [
    "#  Copying list"
   ]
  },
  {
   "cell_type": "markdown",
   "id": "8ee5541f",
   "metadata": {},
   "source": [
    "By using copy()"
   ]
  },
  {
   "cell_type": "code",
   "execution_count": 61,
   "id": "30ce3b83",
   "metadata": {},
   "outputs": [
    {
     "name": "stdout",
     "output_type": "stream",
     "text": [
      "['BMW M340', 'BMW F40', 'VW Polo']\n",
      "['BMW M340', 'BMW F40', 'VW Polo']\n"
     ]
    }
   ],
   "source": [
    "cars = [\"BMW M340\", \"BMW F40\", \"VW Polo\"]\n",
    "copiedlist = cars.copy()\n",
    "print(cars)\n",
    "print(copiedlist)"
   ]
  },
  {
   "cell_type": "code",
   "execution_count": 62,
   "id": "1ee916b5",
   "metadata": {},
   "outputs": [
    {
     "name": "stdout",
     "output_type": "stream",
     "text": [
      "['BMW M340', 'BMW F40', 'VW Polo']\n"
     ]
    }
   ],
   "source": [
    "cars = [\"BMW M340\", \"BMW F40\", \"VW Polo\"]\n",
    "copiedlist = list(cars)\n",
    "print(copiedlist)"
   ]
  },
  {
   "cell_type": "markdown",
   "id": "19570e49",
   "metadata": {},
   "source": [
    "# Sorting"
   ]
  },
  {
   "cell_type": "markdown",
   "id": "e227add2",
   "metadata": {},
   "source": [
    "By using sort()\n",
    "\n",
    "Simply using sort() would sort it in ascending order\n"
   ]
  },
  {
   "cell_type": "code",
   "execution_count": 63,
   "id": "c40ffe84",
   "metadata": {},
   "outputs": [
    {
     "name": "stdout",
     "output_type": "stream",
     "text": [
      "['BMW F40', 'BMW M340', 'VW Polo']\n"
     ]
    }
   ],
   "source": [
    "cars = [\"BMW M340\", \"BMW F40\", \"VW Polo\"]\n",
    "cars.sort()\n",
    "print(cars)"
   ]
  },
  {
   "cell_type": "markdown",
   "id": "35d43c0e",
   "metadata": {},
   "source": [
    "To sort in decending order, add reverse=True"
   ]
  },
  {
   "cell_type": "code",
   "execution_count": 65,
   "id": "e4676376",
   "metadata": {},
   "outputs": [
    {
     "name": "stdout",
     "output_type": "stream",
     "text": [
      "['VW Polo', 'BMW M340', 'BMW F40']\n"
     ]
    }
   ],
   "source": [
    "cars = [\"BMW M340\", \"BMW F40\", \"VW Polo\"]\n",
    "cars.sort(reverse=True)\n",
    "print(cars)"
   ]
  },
  {
   "cell_type": "markdown",
   "id": "95cec161",
   "metadata": {},
   "source": [
    "By using reverse() you can sort a list in decending order"
   ]
  },
  {
   "cell_type": "code",
   "execution_count": 66,
   "id": "4204eb13",
   "metadata": {},
   "outputs": [
    {
     "name": "stdout",
     "output_type": "stream",
     "text": [
      "['VW Polo', 'BMW F40', 'BMW M340']\n"
     ]
    }
   ],
   "source": [
    "cars = [\"BMW M340\", \"BMW F40\", \"VW Polo\"]\n",
    "cars.reverse()\n",
    "print(cars)"
   ]
  },
  {
   "cell_type": "markdown",
   "id": "f5a32e55",
   "metadata": {},
   "source": [
    "# 3. Sets"
   ]
  },
  {
   "cell_type": "markdown",
   "id": "2e47b211",
   "metadata": {},
   "source": [
    "In Python, a set is an unordered and mutable collection of unique elements, where each element must be immutable \n",
    "(e.g., numbers, strings, or tuples), and it is defined by enclosing elements within curly braces {}."
   ]
  },
  {
   "cell_type": "code",
   "execution_count": 68,
   "id": "9fe96b79",
   "metadata": {},
   "outputs": [
    {
     "name": "stdout",
     "output_type": "stream",
     "text": [
      "{'BMW M340', 'VW Polo', 'BMW F40'}\n",
      "3\n",
      "<class 'set'>\n"
     ]
    }
   ],
   "source": [
    "cars = {\"BMW M340\", \"BMW F40\", \"VW Polo\"}\n",
    "print(cars)\n",
    "print(len(cars))\n",
    "print(type(cars))"
   ]
  },
  {
   "cell_type": "markdown",
   "id": "ca7a1ec6",
   "metadata": {},
   "source": [
    "By using set()"
   ]
  },
  {
   "cell_type": "code",
   "execution_count": 69,
   "id": "f3674288",
   "metadata": {},
   "outputs": [
    {
     "name": "stdout",
     "output_type": "stream",
     "text": [
      "{'BMW M340', 'VW Polo', 'BMW F40'}\n"
     ]
    }
   ],
   "source": [
    "cars = set((\"BMW M340\", \"BMW F40\", \"VW Polo\")) \n",
    "print(cars)"
   ]
  },
  {
   "cell_type": "markdown",
   "id": "aa8ccf42",
   "metadata": {},
   "source": [
    "# How to access an item for a set?"
   ]
  },
  {
   "cell_type": "code",
   "execution_count": 72,
   "id": "9af27450",
   "metadata": {},
   "outputs": [
    {
     "name": "stdout",
     "output_type": "stream",
     "text": [
      "True\n",
      "False\n"
     ]
    }
   ],
   "source": [
    "cars = {\"BMW M340\", \"BMW F40\", \"VW Polo\"}\n",
    "print(\"BMW F40\" in cars)\n",
    "print(\"BMW 5 series\" in cars)"
   ]
  },
  {
   "cell_type": "markdown",
   "id": "654f353f",
   "metadata": {},
   "source": [
    "#  Add an item to set"
   ]
  },
  {
   "cell_type": "markdown",
   "id": "5b34734a",
   "metadata": {},
   "source": [
    "By using add()"
   ]
  },
  {
   "cell_type": "code",
   "execution_count": 76,
   "id": "c88b8acd",
   "metadata": {},
   "outputs": [
    {
     "name": "stdout",
     "output_type": "stream",
     "text": [
      "{'LandCruiser', 'BMW M340', 'VW Polo', 'BMW F40'}\n"
     ]
    }
   ],
   "source": [
    "cars = {\"BMW M340\", \"BMW F40\", \"VW Polo\"}\n",
    "cars.add(\"LandCruiser\")\n",
    "print(cars)"
   ]
  },
  {
   "cell_type": "code",
   "execution_count": 78,
   "id": "8a1dbddf",
   "metadata": {},
   "outputs": [
    {
     "name": "stdout",
     "output_type": "stream",
     "text": [
      "{'BMW 5 series', 'VW Golf', 'VW Polo', 'BMW F40', 'Landcruiser', 'BMW M340'}\n"
     ]
    }
   ],
   "source": [
    "cars = {\"BMW M340\", \"BMW F40\", \"VW Polo\"}\n",
    "cars1 = {\"BMW 5 series\", \"VW Golf\", \"Landcruiser\"}\n",
    "cars.update(cars1)\n",
    "print(cars)"
   ]
  },
  {
   "cell_type": "markdown",
   "id": "45799c31",
   "metadata": {},
   "source": [
    "#  Remove an item from a set"
   ]
  },
  {
   "cell_type": "markdown",
   "id": "8e7f9a06",
   "metadata": {},
   "source": [
    "By using remove()"
   ]
  },
  {
   "cell_type": "code",
   "execution_count": 80,
   "id": "da635398",
   "metadata": {},
   "outputs": [
    {
     "name": "stdout",
     "output_type": "stream",
     "text": [
      "{'BMW M340', 'BMW F40'}\n"
     ]
    }
   ],
   "source": [
    "cars = {\"BMW M340\", \"BMW F40\", \"VW Polo\"}\n",
    "cars.remove(\"VW Polo\")\n",
    "print(cars)"
   ]
  },
  {
   "cell_type": "markdown",
   "id": "eef47f14",
   "metadata": {},
   "source": [
    "By using discard()"
   ]
  },
  {
   "cell_type": "code",
   "execution_count": 81,
   "id": "d7757a29",
   "metadata": {},
   "outputs": [
    {
     "name": "stdout",
     "output_type": "stream",
     "text": [
      "{'BMW M340', 'BMW F40'}\n"
     ]
    }
   ],
   "source": [
    "cars = {\"BMW M340\", \"BMW F40\", \"VW Polo\"}\n",
    "cars.discard(\"VW Polo\")\n",
    "print(cars)"
   ]
  },
  {
   "cell_type": "code",
   "execution_count": 84,
   "id": "0554a3d9",
   "metadata": {},
   "outputs": [
    {
     "name": "stdout",
     "output_type": "stream",
     "text": [
      "BMW M340\n",
      "{'VW Polo', 'BMW F40'}\n"
     ]
    }
   ],
   "source": [
    "cars = {\"BMW M340\", \"BMW F40\", \"VW Polo\"}\n",
    "x = cars.pop()\n",
    "print(x)\n",
    "print(cars)"
   ]
  },
  {
   "cell_type": "markdown",
   "id": "1be0001b",
   "metadata": {},
   "source": [
    "# Join 2 sets"
   ]
  },
  {
   "cell_type": "code",
   "execution_count": 85,
   "id": "d24efdfc",
   "metadata": {},
   "outputs": [
    {
     "name": "stdout",
     "output_type": "stream",
     "text": [
      "{'BMW 5 series', 'VW Golf', 'VW Polo', 'BMW F40', 'Landcruiser', 'BMW M340'}\n"
     ]
    }
   ],
   "source": [
    "cars = {\"BMW M340\", \"BMW F40\", \"VW Polo\"}\n",
    "cars1 = {\"BMW 5 series\", \"VW Golf\", \"Landcruiser\"}\n",
    "newcar = cars.union(cars1)\n",
    "print(newcar)"
   ]
  },
  {
   "cell_type": "code",
   "execution_count": 87,
   "id": "c6c2c7dd",
   "metadata": {},
   "outputs": [
    {
     "name": "stdout",
     "output_type": "stream",
     "text": [
      "{'BMW M340', 'VW Polo'}\n"
     ]
    }
   ],
   "source": [
    "cars = {\"BMW M340\", \"BMW F40\", \"VW Polo\"}\n",
    "cars1 = {\"BMW M340\", \"VW Polo\", \"VW Golf\"}\n",
    "newcar = cars.intersection(cars1)\n",
    "print(newcar)"
   ]
  },
  {
   "cell_type": "markdown",
   "id": "0a2d0ff2",
   "metadata": {},
   "source": [
    "# 4. Tuples"
   ]
  },
  {
   "cell_type": "markdown",
   "id": "ec95d767",
   "metadata": {},
   "source": [
    "In Python, a tuple is an ordered and immutable collection of elements, which can be of different data types, and is defined by enclosing the elements within parentheses (). Once a tuple is created, its elements cannot be modified or changed. Tuples are commonly used for grouping related data together."
   ]
  },
  {
   "cell_type": "code",
   "execution_count": 88,
   "id": "ad966048",
   "metadata": {},
   "outputs": [
    {
     "name": "stdout",
     "output_type": "stream",
     "text": [
      "('BMW M340', 'BMW F40', 'VW Polo')\n",
      "3\n",
      "<class 'tuple'>\n"
     ]
    }
   ],
   "source": [
    "cars = (\"BMW M340\", \"BMW F40\", \"VW Polo\")\n",
    "print(cars)\n",
    "print(len(cars))\n",
    "print(type(cars))"
   ]
  },
  {
   "cell_type": "markdown",
   "id": "18a14179",
   "metadata": {},
   "source": [
    "# Accessing items from a tuple"
   ]
  },
  {
   "cell_type": "code",
   "execution_count": 91,
   "id": "9eee76f4",
   "metadata": {},
   "outputs": [
    {
     "name": "stdout",
     "output_type": "stream",
     "text": [
      "BMW F40\n",
      "landcruiser\n",
      "('BMW F40', 'VW Polo')\n",
      "('BMW M340', 'BMW F40', 'VW Polo')\n",
      "('VW Golf',)\n",
      "('landcruiser',)\n"
     ]
    }
   ],
   "source": [
    "cars = (\"BMW M340\", \"BMW F40\", \"VW Polo\", \"landcruiser\", \"VW Golf\")\n",
    "print(cars[1])\n",
    "print(cars[-2])\n",
    "print(cars[1:3])\n",
    "print(cars[:3])\n",
    "print(cars[4:])\n",
    "print(cars[-2:-1])"
   ]
  },
  {
   "cell_type": "markdown",
   "id": "7c1ef7ae",
   "metadata": {},
   "source": [
    "Values in a tuple cannot be changed. If we want to change the values we will have to convert the tuple to a list and the change the values and convert it back to tuple."
   ]
  },
  {
   "cell_type": "code",
   "execution_count": 94,
   "id": "63d4123f",
   "metadata": {},
   "outputs": [
    {
     "name": "stdout",
     "output_type": "stream",
     "text": [
      "('BMW M340', 'BMW F40', 'VW Polo', 'landcruiser', 'VW Golf', 'S class')\n"
     ]
    }
   ],
   "source": [
    "cars = (\"BMW M340\", \"BMW F40\", \"VW Polo\", \"landcruiser\", \"VW Golf\")\n",
    "x = list(cars)\n",
    "x.append(\"S class\")\n",
    "cars= tuple(x)\n",
    "print(cars)"
   ]
  },
  {
   "cell_type": "code",
   "execution_count": 95,
   "id": "0219160d",
   "metadata": {},
   "outputs": [
    {
     "name": "stdout",
     "output_type": "stream",
     "text": [
      "('BMW M340', 'BMW F40', 'landcruiser', 'VW Golf')\n"
     ]
    }
   ],
   "source": [
    "cars = (\"BMW M340\", \"BMW F40\", \"VW Polo\", \"landcruiser\", \"VW Golf\")\n",
    "x = list(cars)\n",
    "x.remove(\"VW Polo\")\n",
    "cars= tuple(x)\n",
    "print(cars)"
   ]
  },
  {
   "cell_type": "code",
   "execution_count": 96,
   "id": "666f26bc",
   "metadata": {},
   "outputs": [],
   "source": [
    "cars = (\"BMW M340\", \"BMW F40\", \"VW Polo\", \"landcruiser\", \"VW Golf\")\n",
    "del cars"
   ]
  },
  {
   "cell_type": "markdown",
   "id": "6e8cc302",
   "metadata": {},
   "source": [
    "# Looping Tuple"
   ]
  },
  {
   "cell_type": "markdown",
   "id": "31b85b07",
   "metadata": {},
   "source": [
    "We use the index of the item while using loops in tuple"
   ]
  },
  {
   "cell_type": "code",
   "execution_count": 97,
   "id": "7cd6de55",
   "metadata": {},
   "outputs": [
    {
     "name": "stdout",
     "output_type": "stream",
     "text": [
      "BMW M340\n",
      "BMW F40\n",
      "VW Polo\n",
      "landcruiser\n",
      "VW Golf\n"
     ]
    }
   ],
   "source": [
    "cars = (\"BMW M340\", \"BMW F40\", \"VW Polo\", \"landcruiser\", \"VW Golf\")\n",
    "for i in range(len(cars)):\n",
    "  print(cars[i])"
   ]
  },
  {
   "cell_type": "code",
   "execution_count": 98,
   "id": "8704ea6c",
   "metadata": {},
   "outputs": [
    {
     "name": "stdout",
     "output_type": "stream",
     "text": [
      "BMW M340\n",
      "BMW F40\n",
      "VW Polo\n",
      "landcruiser\n",
      "VW Golf\n"
     ]
    }
   ],
   "source": [
    "cars = (\"BMW M340\", \"BMW F40\", \"VW Polo\", \"landcruiser\", \"VW Golf\")\n",
    "i = 0\n",
    "while i < len(cars):\n",
    "  print(cars[i])\n",
    "  i = i + 1"
   ]
  }
 ],
 "metadata": {
  "kernelspec": {
   "display_name": "Python 3 (ipykernel)",
   "language": "python",
   "name": "python3"
  },
  "language_info": {
   "codemirror_mode": {
    "name": "ipython",
    "version": 3
   },
   "file_extension": ".py",
   "mimetype": "text/x-python",
   "name": "python",
   "nbconvert_exporter": "python",
   "pygments_lexer": "ipython3",
   "version": "3.11.5"
  }
 },
 "nbformat": 4,
 "nbformat_minor": 5
}
