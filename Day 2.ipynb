{
 "cells": [
  {
   "cell_type": "markdown",
   "id": "f23f6b4d",
   "metadata": {},
   "source": [
    "# If Else"
   ]
  },
  {
   "cell_type": "code",
   "execution_count": 5,
   "id": "dde1af88",
   "metadata": {},
   "outputs": [
    {
     "name": "stdout",
     "output_type": "stream",
     "text": [
      "b is the biggest\n"
     ]
    }
   ],
   "source": [
    "a = 20\n",
    "b = 30\n",
    "if a>b:\n",
    "    print(\"a is the biggest\")\n",
    "else:\n",
    "    print(\"b is the biggest\")"
   ]
  },
  {
   "cell_type": "markdown",
   "id": "fca5c0ca",
   "metadata": {},
   "source": [
    "# elif"
   ]
  },
  {
   "cell_type": "code",
   "execution_count": 12,
   "id": "3bba744e",
   "metadata": {},
   "outputs": [
    {
     "name": "stdout",
     "output_type": "stream",
     "text": [
      "b is greater\n"
     ]
    }
   ],
   "source": [
    "a=20\n",
    "b=30\n",
    "if a>b:\n",
    "    print(\"a is greater\")\n",
    "elif a == b:\n",
    "    print(\"both are equal\")\n",
    "else:\n",
    "    print(\"b is greater\")"
   ]
  },
  {
   "cell_type": "markdown",
   "id": "aa091be0",
   "metadata": {},
   "source": [
    "# Loops"
   ]
  },
  {
   "cell_type": "markdown",
   "id": "aef8c21c",
   "metadata": {},
   "source": [
    "while"
   ]
  },
  {
   "cell_type": "code",
   "execution_count": 14,
   "id": "4c114273",
   "metadata": {},
   "outputs": [
    {
     "name": "stdout",
     "output_type": "stream",
     "text": [
      "2\n",
      "3\n",
      "4\n",
      "5\n",
      "6\n",
      "7\n",
      "8\n",
      "9\n"
     ]
    }
   ],
   "source": [
    "a = 2\n",
    "while a < 10:\n",
    "    print(a)\n",
    "    a=a+1"
   ]
  },
  {
   "cell_type": "markdown",
   "id": "04440f5e",
   "metadata": {},
   "source": [
    "break statement"
   ]
  },
  {
   "cell_type": "code",
   "execution_count": 16,
   "id": "0d12bd32",
   "metadata": {},
   "outputs": [
    {
     "name": "stdout",
     "output_type": "stream",
     "text": [
      "2\n",
      "3\n",
      "4\n"
     ]
    }
   ],
   "source": [
    "a=2\n",
    "while a<10:\n",
    "    print(a)\n",
    "    if(a == 4):\n",
    "        break\n",
    "    a = a+1   "
   ]
  },
  {
   "cell_type": "markdown",
   "id": "f9390aa6",
   "metadata": {},
   "source": [
    "Continue statement"
   ]
  },
  {
   "cell_type": "code",
   "execution_count": 17,
   "id": "d0cc01d3",
   "metadata": {},
   "outputs": [
    {
     "name": "stdout",
     "output_type": "stream",
     "text": [
      "3\n",
      "5\n",
      "6\n",
      "7\n",
      "8\n",
      "9\n",
      "10\n"
     ]
    }
   ],
   "source": [
    "a = 2\n",
    "while a<10:\n",
    "    a = a+1\n",
    "    if a == 4:\n",
    "        continue\n",
    "    print(a)"
   ]
  },
  {
   "cell_type": "markdown",
   "id": "c5ebffb0",
   "metadata": {},
   "source": [
    "# For"
   ]
  },
  {
   "cell_type": "code",
   "execution_count": 20,
   "id": "46e455e7",
   "metadata": {},
   "outputs": [
    {
     "name": "stdout",
     "output_type": "stream",
     "text": [
      "BMW M340\n",
      "BMW F40\n",
      "VW Golf\n"
     ]
    }
   ],
   "source": [
    "cars = [\"BMW M340\", \"BMW F40\", \"VW Golf\"]\n",
    "for i in cars:\n",
    "    print(i)"
   ]
  },
  {
   "cell_type": "code",
   "execution_count": 28,
   "id": "7fcdb560",
   "metadata": {},
   "outputs": [
    {
     "name": "stdout",
     "output_type": "stream",
     "text": [
      "BMW M340\n",
      "BMW F40\n"
     ]
    }
   ],
   "source": [
    "cars = [\"BMW M340\", \"BMW F40\", \"VW Golf\"]\n",
    "for i in cars:\n",
    "    print(i)\n",
    "    if i == \"BMW F40\":\n",
    "        break\n",
    "    "
   ]
  },
  {
   "cell_type": "code",
   "execution_count": 33,
   "id": "27c7bcf4",
   "metadata": {},
   "outputs": [
    {
     "name": "stdout",
     "output_type": "stream",
     "text": [
      "                            *  \n",
      "                           * *  \n",
      "                          * * *  \n",
      "                         * * * *  \n",
      "                        * * * * *  \n",
      "                       * * * * * *  \n",
      "                      * * * * * * *  \n",
      "                     * * * * * * * *  \n",
      "                    * * * * * * * * *  \n",
      "                   * * * * * * * * * *  \n",
      "                  * * * * * * * * * * *  \n",
      "                 * * * * * * * * * * * *  \n",
      "                * * * * * * * * * * * * *  \n",
      "               * * * * * * * * * * * * * *  \n",
      "              * * * * * * * * * * * * * * *  \n"
     ]
    }
   ],
   "source": [
    "def pattern(n):\n",
    "    k=2*n-2\n",
    "    for i in range (0,n):\n",
    "        for j in range (0,k):\n",
    "            print (end= \" \")\n",
    "        k = k-1\n",
    "        for j in range(0, i+1):\n",
    "            print(\"*\", end= \" \")\n",
    "        print(\" \")\n",
    "pattern(15)"
   ]
  },
  {
   "cell_type": "code",
   "execution_count": 44,
   "id": "150b03bb",
   "metadata": {},
   "outputs": [
    {
     "name": "stdout",
     "output_type": "stream",
     "text": [
      "* \r\n",
      "* * \r\n",
      "* * * \r\n",
      "* * * * \r\n",
      "* * * * * \r\n"
     ]
    }
   ],
   "source": [
    "def pattern(n):\n",
    "    for i in range(0,n):\n",
    "        for j in range(0,i+1):\n",
    "            print(\"*\", end=' ')\n",
    "        print(\"\\r\")\n",
    "pattern(5)"
   ]
  },
  {
   "cell_type": "code",
   "execution_count": null,
   "id": "0ad34dbd",
   "metadata": {},
   "outputs": [],
   "source": []
  }
 ],
 "metadata": {
  "kernelspec": {
   "display_name": "Python 3 (ipykernel)",
   "language": "python",
   "name": "python3"
  },
  "language_info": {
   "codemirror_mode": {
    "name": "ipython",
    "version": 3
   },
   "file_extension": ".py",
   "mimetype": "text/x-python",
   "name": "python",
   "nbconvert_exporter": "python",
   "pygments_lexer": "ipython3",
   "version": "3.11.5"
  }
 },
 "nbformat": 4,
 "nbformat_minor": 5
}
