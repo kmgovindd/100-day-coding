{
 "cells": [
  {
   "cell_type": "markdown",
   "id": "30b2f121",
   "metadata": {},
   "source": [
    "# Day 4 "
   ]
  },
  {
   "cell_type": "markdown",
   "id": "5247cc48",
   "metadata": {},
   "source": [
    "# OOPS"
   ]
  },
  {
   "cell_type": "markdown",
   "id": "4e301b8f",
   "metadata": {},
   "source": [
    "Index\n",
    "1. How to create a class?\n",
    "2. How to create an object?\n",
    "3. Self method, init method\n",
    "4. iterators\n",
    "5. try and except"
   ]
  },
  {
   "cell_type": "markdown",
   "id": "eba68c10",
   "metadata": {},
   "source": [
    "# 1. How to create a class?"
   ]
  },
  {
   "cell_type": "code",
   "execution_count": 1,
   "id": "fb023d21",
   "metadata": {},
   "outputs": [],
   "source": [
    "class Cars:\n",
    "    name=\"BMW M340\"\n",
    "    origin=\"Germany\""
   ]
  },
  {
   "cell_type": "markdown",
   "id": "debcaaab",
   "metadata": {},
   "source": [
    "# 2. How to create an object?"
   ]
  },
  {
   "cell_type": "code",
   "execution_count": 4,
   "id": "d4d31b82",
   "metadata": {},
   "outputs": [
    {
     "name": "stdout",
     "output_type": "stream",
     "text": [
      "BMW M340\n",
      "Germany\n"
     ]
    }
   ],
   "source": [
    "class Cars:\n",
    "    name=\"BMW M340\"\n",
    "    origin=\"Germany\"\n",
    "obj = Cars()\n",
    "print(obj.name)\n",
    "print(obj.origin)"
   ]
  },
  {
   "cell_type": "markdown",
   "id": "fe048202",
   "metadata": {},
   "source": [
    "# 3. Self method"
   ]
  },
  {
   "cell_type": "code",
   "execution_count": 8,
   "id": "a44a73e7",
   "metadata": {},
   "outputs": [
    {
     "name": "stdout",
     "output_type": "stream",
     "text": [
      "Vehicle make and name: BMW M340 made in Germany\n"
     ]
    }
   ],
   "source": [
    "class Cars:\n",
    "    name=\"BMW M340\"\n",
    "    origin=\"Germany\"\n",
    "    def desc(self):\n",
    "        print(\"Vehicle make and name:\", self.name, \"made in\", self.origin)\n",
    "obj = Cars()\n",
    "obj.desc()"
   ]
  },
  {
   "cell_type": "markdown",
   "id": "c16c0d55",
   "metadata": {},
   "source": [
    "# init method"
   ]
  },
  {
   "cell_type": "code",
   "execution_count": 7,
   "id": "f730eb66",
   "metadata": {},
   "outputs": [
    {
     "name": "stdout",
     "output_type": "stream",
     "text": [
      "Vehicle name and make is:BMW M340\n"
     ]
    }
   ],
   "source": [
    "class Cars:\n",
    "    def __init__(self, name, origin):\n",
    "        self.name = name\n",
    "        self.origin = origin\n",
    "obj = Cars(\"BMW M340\", \"germany\")\n",
    "print(\"Vehicle name and make is:\"+ obj.name)"
   ]
  },
  {
   "cell_type": "markdown",
   "id": "93fc84ba",
   "metadata": {},
   "source": [
    "# 4. Iterator"
   ]
  },
  {
   "cell_type": "code",
   "execution_count": 11,
   "id": "970b1b9b",
   "metadata": {},
   "outputs": [
    {
     "name": "stdout",
     "output_type": "stream",
     "text": [
      "h\n",
      "e\n",
      "l\n",
      "l\n",
      "o\n",
      " \n",
      "w\n",
      "o\n",
      "r\n",
      "l\n",
      "d\n"
     ]
    }
   ],
   "source": [
    "string = 'hello world'\n",
    "iterobj = iter(string)\n",
    "while True:\n",
    "    try:\n",
    "        char = next(iterobj)\n",
    "        print(char)\n",
    "    except StopIteration:\n",
    "        break"
   ]
  },
  {
   "cell_type": "markdown",
   "id": "6015d490",
   "metadata": {},
   "source": [
    "# 5. try and except"
   ]
  },
  {
   "cell_type": "code",
   "execution_count": 14,
   "id": "7c559aea",
   "metadata": {},
   "outputs": [
    {
     "name": "stdout",
     "output_type": "stream",
     "text": [
      "enter an integer:2.2\n",
      "Number entered not an integer\n"
     ]
    }
   ],
   "source": [
    "try:\n",
    "    num= int(input(\"enter an integer:\"))\n",
    "except ValueError:\n",
    "    print(\"Number entered not an integer\")"
   ]
  }
 ],
 "metadata": {
  "kernelspec": {
   "display_name": "Python 3 (ipykernel)",
   "language": "python",
   "name": "python3"
  },
  "language_info": {
   "codemirror_mode": {
    "name": "ipython",
    "version": 3
   },
   "file_extension": ".py",
   "mimetype": "text/x-python",
   "name": "python",
   "nbconvert_exporter": "python",
   "pygments_lexer": "ipython3",
   "version": "3.11.5"
  }
 },
 "nbformat": 4,
 "nbformat_minor": 5
}
