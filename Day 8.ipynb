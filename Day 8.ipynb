{
 "cells": [
  {
   "cell_type": "markdown",
   "id": "dede3fcd",
   "metadata": {},
   "source": [
    "# PANDAS"
   ]
  },
  {
   "cell_type": "markdown",
   "id": "792ede23",
   "metadata": {},
   "source": [
    "What is pandas? Why is it used?"
   ]
  },
  {
   "cell_type": "markdown",
   "id": "7e7fa781",
   "metadata": {},
   "source": [
    "Pandas is a Python library used for working with data sets. It has functions for analyzing, cleaning, exploring, and manipulating data. The name \"Pandas\" has a reference to both \"Panel Data\", and \"Python Data Analysis\" "
   ]
  },
  {
   "cell_type": "markdown",
   "id": "706dca03",
   "metadata": {},
   "source": [
    "INDEX\n",
    "\n",
    "1. Series\n",
    "2. DataFrame"
   ]
  },
  {
   "cell_type": "markdown",
   "id": "284479ca",
   "metadata": {},
   "source": [
    "# 1. Series"
   ]
  },
  {
   "cell_type": "markdown",
   "id": "69b00e0a",
   "metadata": {},
   "source": [
    "Empty Series"
   ]
  },
  {
   "cell_type": "code",
   "execution_count": 3,
   "id": "b3de9c27",
   "metadata": {},
   "outputs": [
    {
     "name": "stdout",
     "output_type": "stream",
     "text": [
      "Series([], dtype: object)\n"
     ]
    }
   ],
   "source": [
    "import pandas as pd\n",
    "ls = pd.Series()\n",
    "print(ls)"
   ]
  },
  {
   "cell_type": "markdown",
   "id": "7e9fa256",
   "metadata": {},
   "source": [
    "Series from ndarray"
   ]
  },
  {
   "cell_type": "code",
   "execution_count": 5,
   "id": "c64fe407",
   "metadata": {},
   "outputs": [
    {
     "name": "stdout",
     "output_type": "stream",
     "text": [
      "0    a\n",
      "1    b\n",
      "2    c\n",
      "3    d\n",
      "dtype: object\n"
     ]
    }
   ],
   "source": [
    "import pandas as pd\n",
    "import numpy as np\n",
    "data = np.array(['a','b','c','d'])\n",
    "ls = pd.Series(data)\n",
    "print(ls)"
   ]
  },
  {
   "cell_type": "markdown",
   "id": "182d709e",
   "metadata": {},
   "source": [
    "Series from list"
   ]
  },
  {
   "cell_type": "code",
   "execution_count": 6,
   "id": "c1ad7cfd",
   "metadata": {},
   "outputs": [
    {
     "name": "stdout",
     "output_type": "stream",
     "text": [
      "0    7\n",
      "1    1\n",
      "2    8\n",
      "dtype: int64\n"
     ]
    }
   ],
   "source": [
    "import pandas as pd\n",
    "a = [7, 1, 8]\n",
    "ls = pd.Series(a)\n",
    "print(ls)"
   ]
  },
  {
   "cell_type": "markdown",
   "id": "ba76fad3",
   "metadata": {},
   "source": [
    "Series from dictionary"
   ]
  },
  {
   "cell_type": "code",
   "execution_count": 7,
   "id": "7fcaede6",
   "metadata": {},
   "outputs": [
    {
     "name": "stdout",
     "output_type": "stream",
     "text": [
      "day1    210\n",
      "day2    540\n",
      "day3    685\n",
      "dtype: int64\n"
     ]
    }
   ],
   "source": [
    "import pandas as pd\n",
    "calories = {\"day1\": 210,\n",
    "            \"day2\": 540,\n",
    "            \"day3\": 685\n",
    "           }\n",
    "df = pd.Series(calories)\n",
    "print(df)"
   ]
  },
  {
   "cell_type": "markdown",
   "id": "ea1bc9bf",
   "metadata": {},
   "source": [
    "# 2. DataFrame"
   ]
  },
  {
   "cell_type": "markdown",
   "id": "f39ca1a2",
   "metadata": {},
   "source": [
    "DataFrames are similar to SQL tables or the spreadsheets that you work with in Excel or Calc. In many cases, DataFrames are faster, easier to use, and more powerful than tables or spreadsheets because they're an integral part of the Python and NumPy ecosystems."
   ]
  },
  {
   "cell_type": "markdown",
   "id": "6df79094",
   "metadata": {},
   "source": [
    "Empty DataFrame"
   ]
  },
  {
   "cell_type": "code",
   "execution_count": 8,
   "id": "3a3c881d",
   "metadata": {},
   "outputs": [
    {
     "name": "stdout",
     "output_type": "stream",
     "text": [
      "Empty DataFrame\n",
      "Columns: []\n",
      "Index: []\n"
     ]
    }
   ],
   "source": [
    "import pandas as pd\n",
    "df = pd.DataFrame()\n",
    "print(df)"
   ]
  },
  {
   "cell_type": "markdown",
   "id": "200a5cf0",
   "metadata": {},
   "source": [
    "DataFrame from list"
   ]
  },
  {
   "cell_type": "code",
   "execution_count": 10,
   "id": "c84100b7",
   "metadata": {},
   "outputs": [
    {
     "name": "stdout",
     "output_type": "stream",
     "text": [
      "   0\n",
      "0  3\n",
      "1  1\n",
      "2  9\n"
     ]
    }
   ],
   "source": [
    "import pandas as pd\n",
    "a = [3,1,9]\n",
    "ls = pd.DataFrame(a)\n",
    "print(ls)"
   ]
  },
  {
   "cell_type": "markdown",
   "id": "7d7611fd",
   "metadata": {},
   "source": [
    "DataFrame from dictionary of ndarray/ lists"
   ]
  },
  {
   "cell_type": "code",
   "execution_count": 12,
   "id": "402f7d6e",
   "metadata": {},
   "outputs": [
    {
     "name": "stdout",
     "output_type": "stream",
     "text": [
      "          Name  Age\n",
      "rank1   Govind   21\n",
      "rank2   Reyhan   25\n",
      "rank3  Risheek   24\n"
     ]
    }
   ],
   "source": [
    "import pandas as pd\n",
    "data = {\n",
    "        'Name':['Govind', 'Reyhan', 'Risheek'],\n",
    "        'Age':[21,25,24]\n",
    "}\n",
    "df = pd.DataFrame(data, index = ['rank1', 'rank2', 'rank3'])\n",
    "print(df)"
   ]
  },
  {
   "cell_type": "code",
   "execution_count": null,
   "id": "baa11f05",
   "metadata": {},
   "outputs": [],
   "source": []
  }
 ],
 "metadata": {
  "kernelspec": {
   "display_name": "Python 3 (ipykernel)",
   "language": "python",
   "name": "python3"
  },
  "language_info": {
   "codemirror_mode": {
    "name": "ipython",
    "version": 3
   },
   "file_extension": ".py",
   "mimetype": "text/x-python",
   "name": "python",
   "nbconvert_exporter": "python",
   "pygments_lexer": "ipython3",
   "version": "3.11.5"
  }
 },
 "nbformat": 4,
 "nbformat_minor": 5
}
